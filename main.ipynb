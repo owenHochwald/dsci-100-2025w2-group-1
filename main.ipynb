{
 "cells": [
  {
   "cell_type": "markdown",
   "id": "890a9b0f-6703-4bd5-8f57-540b9c1bd82c",
   "metadata": {},
   "source": [
    "# [TITLE]"
   ]
  },
  {
   "cell_type": "markdown",
   "id": "3839d043-be4b-4ba6-ad5d-72f4f859eee9",
   "metadata": {},
   "source": [
    "# Introduction"
   ]
  },
  {
   "cell_type": "markdown",
   "id": "f2fce8a0-6517-4060-baf5-c1236341566e",
   "metadata": {},
   "source": [
    "- provide some relevant background information on the topic so that someone unfamiliar with it will be prepared to understand the rest of your report\n",
    "- clearly state the question you tried to answer with your project\n",
    "- identify and fully describe the dataset that was used to answer the question"
   ]
  },
  {
   "cell_type": "markdown",
   "id": "5595b701-e18d-494c-b7d9-ca965b0d89b5",
   "metadata": {},
   "source": [
    "# Methods & Results"
   ]
  },
  {
   "cell_type": "markdown",
   "id": "55e077f1-d45b-45b7-a7ef-3f5c73b1d3b7",
   "metadata": {},
   "source": [
    "- describe the methods you used to perform your analysis from beginning to end that narrates the analysis code.\n",
    "- loads data \n",
    "- wrangles and cleans the data to the format necessary for the planned analysis\n",
    "- performs a summary of the data set that is relevant for exploratory data analysis related to the planned analysis \n",
    "- creates a visualization of the dataset that is relevant for exploratory data analysis related to the planned analysis\n",
    "- performs the data analysis\n",
    "- creates a visualization of the analysis \n",
    "- note: all figures should have a figure number and a legend"
   ]
  },
  {
   "cell_type": "markdown",
   "id": "a042021b-ffd1-47a6-a21f-03ed3f9d73f5",
   "metadata": {},
   "source": [
    "# Discussion"
   ]
  },
  {
   "cell_type": "raw",
   "id": "24c1eeb0-7c31-455a-9441-c82a7dbeead8",
   "metadata": {},
   "source": [
    "summarize what you found\n",
    "discuss whether this is what you expected to find?\n",
    "discuss what impact could such findings have?\n",
    "discuss what future questions could this lead to?"
   ]
  },
  {
   "cell_type": "code",
   "execution_count": null,
   "id": "b2523836-f542-4bba-8fbf-507f8167e162",
   "metadata": {},
   "outputs": [],
   "source": []
  }
 ],
 "metadata": {
  "kernelspec": {
   "display_name": "R",
   "language": "R",
   "name": "ir"
  },
  "language_info": {
   "codemirror_mode": "r",
   "file_extension": ".r",
   "mimetype": "text/x-r-source",
   "name": "R",
   "pygments_lexer": "r",
   "version": "4.3.3"
  }
 },
 "nbformat": 4,
 "nbformat_minor": 5
}
